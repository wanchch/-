{
 "cells": [
  {
   "cell_type": "code",
   "execution_count": 1,
   "id": "7b32e960-a55b-4b67-a190-ade77c2cf61a",
   "metadata": {},
   "outputs": [
    {
     "name": "stderr",
     "output_type": "stream",
     "text": [
      "WARNING: OMP_NUM_THREADS set to 24, not 1. The computation speed will not be optimized if you use data parallel. It will fail if this PaddlePaddle binary is compiled with OpenBlas since OpenBlas does not support multi-threads.\n",
      "PLEASE USE OMP_NUM_THREADS WISELY.\n",
      "/root/miniconda3/envs/paddle/lib/python3.8/site-packages/tqdm/auto.py:21: TqdmWarning: IProgress not found. Please update jupyter and ipywidgets. See https://ipywidgets.readthedocs.io/en/stable/user_install.html\n",
      "  from .autonotebook import tqdm as notebook_tqdm\n",
      "/root/miniconda3/envs/paddle/lib/python3.8/site-packages/_distutils_hack/__init__.py:33: UserWarning: Setuptools is replacing distutils.\n",
      "  warnings.warn(\"Setuptools is replacing distutils.\")\n"
     ]
    }
   ],
   "source": [
    "from pprint import pprint\n",
    "from paddlenlp import Taskflow\n"
   ]
  },
  {
   "cell_type": "code",
   "execution_count": 2,
   "id": "ea5b516c-4428-493c-bc2e-b528c679b6a0",
   "metadata": {},
   "outputs": [
    {
     "name": "stderr",
     "output_type": "stream",
     "text": [
      "\u001b[32m[2023-07-08 11:14:49,448] [    INFO]\u001b[0m - We are using <class 'paddlenlp.transformers.ernie.tokenizer.ErnieTokenizer'> to load '/root/.paddlenlp/taskflow/information_extraction/uie-base'.\u001b[0m\n"
     ]
    },
    {
     "name": "stdout",
     "output_type": "stream",
     "text": [
      "[{'法律法规': [{'end': 80,\n",
      "            'probability': 0.32316004528176734,\n",
      "            'start': 68,\n",
      "            'text': '《中华人民共和国证券法》'}],\n",
      "  '组织机构': [{'end': 22,\n",
      "            'probability': 0.9863645629678892,\n",
      "            'start': 7,\n",
      "            'text': '深圳市振业（集团）股份有限公司'}]}]\n"
     ]
    }
   ],
   "source": [
    "schema = ['组织机构', '法律法规'] # Define the schema for entity extraction\n",
    "ie = Taskflow('information_extraction', schema=schema)\n",
    "pprint(ie(\"为了加强与规范深圳市振业（集团）股份有限公司（以下简称“公司”）委托理财业务的管理，有效控制风险，提高投资收益，维护公司及股东利益，依据《中华人民共和国证券法》、《深圳证券交易所股票上市规则》、《深圳证券交易所主板上市公司规范运作指引》及《公司章程》等法律、行政法规、规范性文件的有关规定，结合公司的实际情况，制定本制度。\")) # Better print results using pprint"
   ]
  },
  {
   "cell_type": "code",
   "execution_count": 4,
   "id": "e0731e86-8879-4f82-adc5-c1adc8c9ea00",
   "metadata": {},
   "outputs": [
    {
     "name": "stdout",
     "output_type": "stream",
     "text": [
      "[{'肝癌级别': [{'end': 20,\n",
      "            'probability': 0.924554253609557,\n",
      "            'start': 13,\n",
      "            'text': 'II-III级'}],\n",
      "  '肿瘤的个数': [{'end': 84,\n",
      "             'probability': 0.7918962686329927,\n",
      "             'start': 82,\n",
      "             'text': '1个'}],\n",
      "  '肿瘤的大小': [{'end': 100,\n",
      "             'probability': 0.8299938910511351,\n",
      "             'start': 87,\n",
      "             'text': '4.2×4.0×2.8cm'}],\n",
      "  '脉管内癌栓分级': [{'end': 70,\n",
      "               'probability': 0.9116147839614399,\n",
      "               'start': 67,\n",
      "               'text': 'M0级'}]}]\n"
     ]
    }
   ],
   "source": [
    "schema = ['肿瘤的大小', '肿瘤的个数', '肝癌级别', '脉管内癌栓分级']\n",
    "ie.set_schema(schema)\n",
    "pprint(ie(\"（右肝肿瘤）肝细胞性肝癌（II-III级，梁索型和假腺管型），肿瘤包膜不完整，紧邻肝被膜，侵及周围肝组织，未见脉管内癌栓（MVI分级：M0级）及卫星子灶形成。（肿物1个，大小4.2×4.0×2.8cm）。\"))"
   ]
  },
  {
   "cell_type": "code",
   "execution_count": 5,
   "id": "9fea640a-0449-4fd9-8ca0-6f5c57106976",
   "metadata": {},
   "outputs": [
    {
     "name": "stdout",
     "output_type": "stream",
     "text": [
      "[{'竞赛名称': [{'end': 13,\n",
      "            'probability': 0.782568538816026,\n",
      "            'relations': {'主办方': [{'end': 22,\n",
      "                                   'probability': 0.8420437144924229,\n",
      "                                   'start': 14,\n",
      "                                   'text': '中国中文信息学会'},\n",
      "                                  {'end': 30,\n",
      "                                   'probability': 0.757912550861306,\n",
      "                                   'start': 23,\n",
      "                                   'text': '中国计算机学会'}],\n",
      "                          '已举办次数': [{'end': 82,\n",
      "                                     'probability': 0.46670408300317945,\n",
      "                                     'start': 80,\n",
      "                                     'text': '4届'}],\n",
      "                          '承办方': [{'end': 39,\n",
      "                                   'probability': 0.8290557492223911,\n",
      "                                   'start': 35,\n",
      "                                   'text': '百度公司'},\n",
      "                                  {'end': 55,\n",
      "                                   'probability': 0.6995789521312084,\n",
      "                                   'start': 40,\n",
      "                                   'text': '中国中文信息学会评测工作委员会'},\n",
      "                                  {'end': 72,\n",
      "                                   'probability': 0.6191713400964574,\n",
      "                                   'start': 56,\n",
      "                                   'text': '中国计算机学会自然语言处理专委会'}]},\n",
      "            'start': 0,\n",
      "            'text': '2022语言与智能技术竞赛'}]}]\n"
     ]
    }
   ],
   "source": [
    "schema = {'竞赛名称': ['主办方', '承办方', '已举办次数']} # Define the schema for relation extraction\n",
    "ie.set_schema(schema) # Reset schema\n",
    "pprint(ie('2022语言与智能技术竞赛由中国中文信息学会和中国计算机学会联合主办，百度公司、中国中文信息学会评测工作委员会和中国计算机学会自然语言处理专委会承办，已连续举办4届，成为全球最热门的中文NLP赛事之一。'))"
   ]
  },
  {
   "cell_type": "code",
   "execution_count": 8,
   "id": "b2c8714e-d51f-4b68-86c3-f9fdab2be9dd",
   "metadata": {},
   "outputs": [
    {
     "name": "stdout",
     "output_type": "stream",
     "text": [
      "[{'病症': [{'end': 42,\n",
      "          'probability': 0.40097983943987714,\n",
      "          'start': 38,\n",
      "          'text': '风邪袭表'},\n",
      "         {'end': 47,\n",
      "          'probability': 0.4224872478529562,\n",
      "          'start': 43,\n",
      "          'text': '营卫不和'},\n",
      "         {'end': 32,\n",
      "          'probability': 0.6631069896380168,\n",
      "          'start': 28,\n",
      "          'text': '太阳中风'},\n",
      "         {'end': 37,\n",
      "          'probability': 0.5181351232191034,\n",
      "          'start': 33,\n",
      "          'text': '风邪外袭'}]}]\n"
     ]
    }
   ],
   "source": [
    "schema = {'病症': ['疗法']} # Define the schema for relation extraction\n",
    "ie.set_schema(schema) # Reset schema\n",
    "pprint(ie('运用具有疏散风邪、调和营卫等作用的方药或相关疗法，以治疗太阳中风、风邪外袭、风邪袭表、营卫不和等所致病证的治法。'))"
   ]
  },
  {
   "cell_type": "code",
   "execution_count": null,
   "id": "aa6a008f-491d-45e8-bb46-65f95b19f3f7",
   "metadata": {},
   "outputs": [],
   "source": []
  }
 ],
 "metadata": {
  "kernelspec": {
   "display_name": "paddle",
   "language": "python",
   "name": "paddle"
  },
  "language_info": {
   "codemirror_mode": {
    "name": "ipython",
    "version": 3
   },
   "file_extension": ".py",
   "mimetype": "text/x-python",
   "name": "python",
   "nbconvert_exporter": "python",
   "pygments_lexer": "ipython3",
   "version": "3.8.17"
  }
 },
 "nbformat": 4,
 "nbformat_minor": 5
}
